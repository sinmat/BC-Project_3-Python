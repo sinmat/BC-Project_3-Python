{
 "cells": [
  {
   "cell_type": "code",
   "execution_count": 15,
   "metadata": {},
   "outputs": [],
   "source": [
    "#In this challenge, you are tasked with creating a Python script for analyzing the financial records of your company.\n",
    "#You will give a set of financial data called [budget_data.csv](PyBank/Resources/budget_data.csv). \n",
    "#The dataset is composed of two columns: `Date` and `Profit/Losses`. \n",
    "#(Thankfully, your company has rather lax standards for accounting so the records are simple.)\n",
    "import os\n",
    "import csv\n",
    "#Your task is to create a Python script that analyzes the records to calculate each of the following:\n",
    "\n",
    "  #The total number of months included in the dataset\n",
    "\n",
    "  #The net total amount of \"Profit/Losses\" over the entire period\n",
    "\n",
    "  #The average of the changes in \"Profit/Losses\" over the entire period\n",
    "\n",
    "  #The greatest increase in profits (date and amount) over the entire period\n",
    "\n",
    "  #The greatest decrease in losses (date and amount) over the entire period"
   ]
  },
  {
   "cell_type": "code",
   "execution_count": 18,
   "metadata": {},
   "outputs": [
    {
     "data": {
      "text/plain": [
       "'/Users/sonjamatejina/Desktop/python-challenge/**PyBank**'"
      ]
     },
     "execution_count": 18,
     "metadata": {},
     "output_type": "execute_result"
    }
   ],
   "source": [
    "os.getcwd()"
   ]
  },
  {
   "cell_type": "code",
   "execution_count": 19,
   "metadata": {},
   "outputs": [
    {
     "name": "stdout",
     "output_type": "stream",
     "text": [
      "Resources/budget_data.csv\n"
     ]
    }
   ],
   "source": [
    "#path\n",
    "csvpath = os.path.join(\"Resources\", \"budget_data.csv\")\n",
    "print(csvpath)"
   ]
  },
  {
   "cell_type": "code",
   "execution_count": 59,
   "metadata": {},
   "outputs": [
    {
     "name": "stdout",
     "output_type": "stream",
     "text": [
      "86\n"
     ]
    }
   ],
   "source": [
    "#The total number of months included in the dataset\n",
    "\n",
    "with open(csvpath, newline = \"\") as csvfile:\n",
    "    csvreader = csv.reader(csvfile, delimiter = \",\")\n",
    "    months = sum(1 for row in csvreader)-1 #remove the header\n",
    "    print(months)\n",
    "   \n",
    "    "
   ]
  },
  {
   "cell_type": "code",
   "execution_count": null,
   "metadata": {},
   "outputs": [],
   "source": []
  }
 ],
 "metadata": {
  "kernelspec": {
   "display_name": "Python 3",
   "language": "python",
   "name": "python3"
  },
  "language_info": {
   "codemirror_mode": {
    "name": "ipython",
    "version": 3
   },
   "file_extension": ".py",
   "mimetype": "text/x-python",
   "name": "python",
   "nbconvert_exporter": "python",
   "pygments_lexer": "ipython3",
   "version": "3.7.1"
  }
 },
 "nbformat": 4,
 "nbformat_minor": 2
}
